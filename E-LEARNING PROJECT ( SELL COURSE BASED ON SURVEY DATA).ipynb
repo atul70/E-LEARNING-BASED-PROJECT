{
 "cells": [
  {
   "cell_type": "code",
   "execution_count": 28,
   "metadata": {},
   "outputs": [],
   "source": [
    "from pyforest import *"
   ]
  },
  {
   "cell_type": "code",
   "execution_count": 29,
   "metadata": {},
   "outputs": [],
   "source": [
    "os.chdir('C:\\\\Users\\\\atulk\\\\Desktop\\\\datasets')"
   ]
  },
  {
   "cell_type": "code",
   "execution_count": 30,
   "metadata": {},
   "outputs": [
    {
     "name": "stderr",
     "output_type": "stream",
     "text": [
      "C:\\Users\\atulk\\Anaconda3\\lib\\site-packages\\IPython\\core\\interactiveshell.py:3049: DtypeWarning: Columns (17,62) have mixed types. Specify dtype option on import or set low_memory=False.\n",
      "  interactivity=interactivity, compiler=compiler, result=result)\n"
     ]
    }
   ],
   "source": [
    "fcc = pd.read_csv('2017analysisdata.csv',encoding = 'unicode_escape')"
   ]
  },
  {
   "cell_type": "code",
   "execution_count": 31,
   "metadata": {},
   "outputs": [
    {
     "data": {
      "text/plain": [
       "(18175, 136)"
      ]
     },
     "execution_count": 31,
     "metadata": {},
     "output_type": "execute_result"
    }
   ],
   "source": [
    "fcc.shape"
   ]
  },
  {
   "cell_type": "code",
   "execution_count": 32,
   "metadata": {},
   "outputs": [
    {
     "data": {
      "text/html": [
       "<div>\n",
       "<style scoped>\n",
       "    .dataframe tbody tr th:only-of-type {\n",
       "        vertical-align: middle;\n",
       "    }\n",
       "\n",
       "    .dataframe tbody tr th {\n",
       "        vertical-align: top;\n",
       "    }\n",
       "\n",
       "    .dataframe thead th {\n",
       "        text-align: right;\n",
       "    }\n",
       "</style>\n",
       "<table border=\"1\" class=\"dataframe\">\n",
       "  <thead>\n",
       "    <tr style=\"text-align: right;\">\n",
       "      <th></th>\n",
       "      <th>Age</th>\n",
       "      <th>AttendedBootcamp</th>\n",
       "      <th>BootcampFinish</th>\n",
       "      <th>BootcampLoanYesNo</th>\n",
       "      <th>BootcampName</th>\n",
       "      <th>BootcampRecommend</th>\n",
       "      <th>ChildrenNumber</th>\n",
       "      <th>CityPopulation</th>\n",
       "      <th>CodeEventConferences</th>\n",
       "      <th>CodeEventDjangoGirls</th>\n",
       "      <th>...</th>\n",
       "      <th>YouTubeFCC</th>\n",
       "      <th>YouTubeFunFunFunction</th>\n",
       "      <th>YouTubeGoogleDev</th>\n",
       "      <th>YouTubeLearnCode</th>\n",
       "      <th>YouTubeLevelUpTuts</th>\n",
       "      <th>YouTubeMIT</th>\n",
       "      <th>YouTubeMozillaHacks</th>\n",
       "      <th>YouTubeOther</th>\n",
       "      <th>YouTubeSimplilearn</th>\n",
       "      <th>YouTubeTheNewBoston</th>\n",
       "    </tr>\n",
       "  </thead>\n",
       "  <tbody>\n",
       "    <tr>\n",
       "      <th>0</th>\n",
       "      <td>27.0</td>\n",
       "      <td>0.0</td>\n",
       "      <td>NaN</td>\n",
       "      <td>NaN</td>\n",
       "      <td>NaN</td>\n",
       "      <td>NaN</td>\n",
       "      <td>NaN</td>\n",
       "      <td>more than 1 million</td>\n",
       "      <td>NaN</td>\n",
       "      <td>NaN</td>\n",
       "      <td>...</td>\n",
       "      <td>NaN</td>\n",
       "      <td>NaN</td>\n",
       "      <td>NaN</td>\n",
       "      <td>NaN</td>\n",
       "      <td>NaN</td>\n",
       "      <td>NaN</td>\n",
       "      <td>NaN</td>\n",
       "      <td>NaN</td>\n",
       "      <td>NaN</td>\n",
       "      <td>NaN</td>\n",
       "    </tr>\n",
       "    <tr>\n",
       "      <th>1</th>\n",
       "      <td>34.0</td>\n",
       "      <td>0.0</td>\n",
       "      <td>NaN</td>\n",
       "      <td>NaN</td>\n",
       "      <td>NaN</td>\n",
       "      <td>NaN</td>\n",
       "      <td>NaN</td>\n",
       "      <td>less than 100,000</td>\n",
       "      <td>NaN</td>\n",
       "      <td>NaN</td>\n",
       "      <td>...</td>\n",
       "      <td>1.0</td>\n",
       "      <td>NaN</td>\n",
       "      <td>NaN</td>\n",
       "      <td>NaN</td>\n",
       "      <td>NaN</td>\n",
       "      <td>NaN</td>\n",
       "      <td>NaN</td>\n",
       "      <td>NaN</td>\n",
       "      <td>NaN</td>\n",
       "      <td>NaN</td>\n",
       "    </tr>\n",
       "    <tr>\n",
       "      <th>2</th>\n",
       "      <td>21.0</td>\n",
       "      <td>0.0</td>\n",
       "      <td>NaN</td>\n",
       "      <td>NaN</td>\n",
       "      <td>NaN</td>\n",
       "      <td>NaN</td>\n",
       "      <td>NaN</td>\n",
       "      <td>more than 1 million</td>\n",
       "      <td>NaN</td>\n",
       "      <td>NaN</td>\n",
       "      <td>...</td>\n",
       "      <td>NaN</td>\n",
       "      <td>NaN</td>\n",
       "      <td>NaN</td>\n",
       "      <td>1.0</td>\n",
       "      <td>1.0</td>\n",
       "      <td>NaN</td>\n",
       "      <td>NaN</td>\n",
       "      <td>NaN</td>\n",
       "      <td>NaN</td>\n",
       "      <td>NaN</td>\n",
       "    </tr>\n",
       "    <tr>\n",
       "      <th>3</th>\n",
       "      <td>26.0</td>\n",
       "      <td>0.0</td>\n",
       "      <td>NaN</td>\n",
       "      <td>NaN</td>\n",
       "      <td>NaN</td>\n",
       "      <td>NaN</td>\n",
       "      <td>NaN</td>\n",
       "      <td>between 100,000 and 1 million</td>\n",
       "      <td>NaN</td>\n",
       "      <td>NaN</td>\n",
       "      <td>...</td>\n",
       "      <td>1.0</td>\n",
       "      <td>1.0</td>\n",
       "      <td>NaN</td>\n",
       "      <td>NaN</td>\n",
       "      <td>1.0</td>\n",
       "      <td>NaN</td>\n",
       "      <td>NaN</td>\n",
       "      <td>NaN</td>\n",
       "      <td>NaN</td>\n",
       "      <td>NaN</td>\n",
       "    </tr>\n",
       "    <tr>\n",
       "      <th>4</th>\n",
       "      <td>20.0</td>\n",
       "      <td>0.0</td>\n",
       "      <td>NaN</td>\n",
       "      <td>NaN</td>\n",
       "      <td>NaN</td>\n",
       "      <td>NaN</td>\n",
       "      <td>NaN</td>\n",
       "      <td>between 100,000 and 1 million</td>\n",
       "      <td>NaN</td>\n",
       "      <td>NaN</td>\n",
       "      <td>...</td>\n",
       "      <td>NaN</td>\n",
       "      <td>NaN</td>\n",
       "      <td>NaN</td>\n",
       "      <td>NaN</td>\n",
       "      <td>NaN</td>\n",
       "      <td>NaN</td>\n",
       "      <td>NaN</td>\n",
       "      <td>NaN</td>\n",
       "      <td>NaN</td>\n",
       "      <td>NaN</td>\n",
       "    </tr>\n",
       "  </tbody>\n",
       "</table>\n",
       "<p>5 rows × 136 columns</p>\n",
       "</div>"
      ],
      "text/plain": [
       "    Age  AttendedBootcamp  BootcampFinish  BootcampLoanYesNo BootcampName  \\\n",
       "0  27.0               0.0             NaN                NaN          NaN   \n",
       "1  34.0               0.0             NaN                NaN          NaN   \n",
       "2  21.0               0.0             NaN                NaN          NaN   \n",
       "3  26.0               0.0             NaN                NaN          NaN   \n",
       "4  20.0               0.0             NaN                NaN          NaN   \n",
       "\n",
       "   BootcampRecommend  ChildrenNumber                 CityPopulation  \\\n",
       "0                NaN             NaN            more than 1 million   \n",
       "1                NaN             NaN              less than 100,000   \n",
       "2                NaN             NaN            more than 1 million   \n",
       "3                NaN             NaN  between 100,000 and 1 million   \n",
       "4                NaN             NaN  between 100,000 and 1 million   \n",
       "\n",
       "   CodeEventConferences  CodeEventDjangoGirls  ...  YouTubeFCC  \\\n",
       "0                   NaN                   NaN  ...         NaN   \n",
       "1                   NaN                   NaN  ...         1.0   \n",
       "2                   NaN                   NaN  ...         NaN   \n",
       "3                   NaN                   NaN  ...         1.0   \n",
       "4                   NaN                   NaN  ...         NaN   \n",
       "\n",
       "   YouTubeFunFunFunction  YouTubeGoogleDev  YouTubeLearnCode  \\\n",
       "0                    NaN               NaN               NaN   \n",
       "1                    NaN               NaN               NaN   \n",
       "2                    NaN               NaN               1.0   \n",
       "3                    1.0               NaN               NaN   \n",
       "4                    NaN               NaN               NaN   \n",
       "\n",
       "   YouTubeLevelUpTuts  YouTubeMIT  YouTubeMozillaHacks YouTubeOther  \\\n",
       "0                 NaN         NaN                  NaN          NaN   \n",
       "1                 NaN         NaN                  NaN          NaN   \n",
       "2                 1.0         NaN                  NaN          NaN   \n",
       "3                 1.0         NaN                  NaN          NaN   \n",
       "4                 NaN         NaN                  NaN          NaN   \n",
       "\n",
       "   YouTubeSimplilearn  YouTubeTheNewBoston  \n",
       "0                 NaN                  NaN  \n",
       "1                 NaN                  NaN  \n",
       "2                 NaN                  NaN  \n",
       "3                 NaN                  NaN  \n",
       "4                 NaN                  NaN  \n",
       "\n",
       "[5 rows x 136 columns]"
      ]
     },
     "execution_count": 32,
     "metadata": {},
     "output_type": "execute_result"
    }
   ],
   "source": [
    "fcc.head()"
   ]
  },
  {
   "cell_type": "code",
   "execution_count": 33,
   "metadata": {},
   "outputs": [
    {
     "data": {
      "text/plain": [
       "Index(['Age', 'AttendedBootcamp', 'BootcampFinish', 'BootcampLoanYesNo',\n",
       "       'BootcampName', 'BootcampRecommend', 'ChildrenNumber', 'CityPopulation',\n",
       "       'CodeEventConferences', 'CodeEventDjangoGirls',\n",
       "       ...\n",
       "       'YouTubeFCC', 'YouTubeFunFunFunction', 'YouTubeGoogleDev',\n",
       "       'YouTubeLearnCode', 'YouTubeLevelUpTuts', 'YouTubeMIT',\n",
       "       'YouTubeMozillaHacks', 'YouTubeOther', 'YouTubeSimplilearn',\n",
       "       'YouTubeTheNewBoston'],\n",
       "      dtype='object', length=136)"
      ]
     },
     "execution_count": 33,
     "metadata": {},
     "output_type": "execute_result"
    }
   ],
   "source": [
    "fcc.columns"
   ]
  },
  {
   "cell_type": "code",
   "execution_count": 34,
   "metadata": {},
   "outputs": [
    {
     "data": {
      "text/plain": [
       "Age                        2808\n",
       "AttendedBootcamp            466\n",
       "BootcampFinish            17106\n",
       "BootcampLoanYesNo         17096\n",
       "BootcampName              17226\n",
       "BootcampRecommend         17102\n",
       "ChildrenNumber            15861\n",
       "CityPopulation             2821\n",
       "CodeEventConferences      16566\n",
       "CodeEventDjangoGirls      18010\n",
       "CodeEventFCC              16467\n",
       "CodeEventGameJam          17885\n",
       "CodeEventGirlDev          17878\n",
       "CodeEventHackathons       16198\n",
       "CodeEventMeetup           15703\n",
       "CodeEventNodeSchool       17729\n",
       "CodeEventNone             17099\n",
       "CodeEventOther            17605\n",
       "CodeEventRailsBridge      18042\n",
       "CodeEventRailsGirls       18043\n",
       "CodeEventStartUpWknd      17631\n",
       "CodeEventWkdBootcamps     17628\n",
       "CodeEventWomenCode        17694\n",
       "CodeEventWorkshops        16422\n",
       "CommuteTime                8929\n",
       "CountryCitizen             2793\n",
       "CountryLive                2839\n",
       "EmploymentField           10059\n",
       "EmploymentFieldOther      17097\n",
       "EmploymentStatus           3830\n",
       "                          ...  \n",
       "ResourceMDN               11758\n",
       "ResourceOdinProj          17199\n",
       "ResourceOther             17151\n",
       "ResourcePluralSight       15783\n",
       "ResourceSkillcrush        17723\n",
       "ResourceSO                 6968\n",
       "ResourceTreehouse         15915\n",
       "ResourceUdacity           14338\n",
       "ResourceUdemy             13055\n",
       "ResourceW3S                8410\n",
       "SchoolDegree               2807\n",
       "SchoolMajor                9448\n",
       "StudentDebtOwe            14813\n",
       "YouTubeCodeCourse         17219\n",
       "YouTubeCodingTrain        17199\n",
       "YouTubeCodingTut360       16778\n",
       "YouTubeComputerphile      16722\n",
       "YouTubeDerekBanas         16328\n",
       "YouTubeDevTips            15556\n",
       "YouTubeEngineeredTruth    17182\n",
       "YouTubeFCC                12139\n",
       "YouTubeFunFunFunction     16914\n",
       "YouTubeGoogleDev          14636\n",
       "YouTubeLearnCode          15513\n",
       "YouTubeLevelUpTuts        16779\n",
       "YouTubeMIT                14848\n",
       "YouTubeMozillaHacks       17553\n",
       "YouTubeOther              16961\n",
       "YouTubeSimplilearn        17974\n",
       "YouTubeTheNewBoston       15215\n",
       "Length: 136, dtype: int64"
      ]
     },
     "execution_count": 34,
     "metadata": {},
     "output_type": "execute_result"
    }
   ],
   "source": [
    "fcc.isnull().sum()"
   ]
  },
  {
   "cell_type": "code",
   "execution_count": 35,
   "metadata": {},
   "outputs": [
    {
     "data": {
      "text/plain": [
       "Full-Stack Web Developer                                                                                                                                                                                     11.770595\n",
       "  Front-End Web Developer                                                                                                                                                                                     6.435927\n",
       "  Data Scientist                                                                                                                                                                                              2.173913\n",
       "Back-End Web Developer                                                                                                                                                                                        2.030892\n",
       "  Mobile Developer                                                                                                                                                                                            1.673341\n",
       "Game Developer                                                                                                                                                                                                1.630435\n",
       "Information Security                                                                                                                                                                                          1.315789\n",
       "Full-Stack Web Developer,   Front-End Web Developer                                                                                                                                                           0.915332\n",
       "  Front-End Web Developer, Full-Stack Web Developer                                                                                                                                                           0.800915\n",
       "  Product Manager                                                                                                                                                                                             0.786613\n",
       "Data Engineer                                                                                                                                                                                                 0.758009\n",
       "  User Experience Designer                                                                                                                                                                                    0.743707\n",
       "  User Experience Designer,   Front-End Web Developer                                                                                                                                                         0.614989\n",
       "  Front-End Web Developer, Back-End Web Developer, Full-Stack Web Developer                                                                                                                                   0.557780\n",
       "Back-End Web Developer,   Front-End Web Developer, Full-Stack Web Developer                                                                                                                                   0.514874\n",
       "Back-End Web Developer, Full-Stack Web Developer,   Front-End Web Developer                                                                                                                                   0.514874\n",
       "  DevOps / SysAdmin                                                                                                                                                                                           0.514874\n",
       "Full-Stack Web Developer,   Front-End Web Developer, Back-End Web Developer                                                                                                                                   0.443364\n",
       "  Front-End Web Developer, Full-Stack Web Developer, Back-End Web Developer                                                                                                                                   0.429062\n",
       "  Front-End Web Developer,   User Experience Designer                                                                                                                                                         0.414760\n",
       "Full-Stack Web Developer,   Mobile Developer                                                                                                                                                                  0.414760\n",
       "Back-End Web Developer, Full-Stack Web Developer                                                                                                                                                              0.386156\n",
       "Full-Stack Web Developer, Back-End Web Developer                                                                                                                                                              0.371854\n",
       "Back-End Web Developer,   Front-End Web Developer                                                                                                                                                             0.286041\n",
       "Full-Stack Web Developer, Back-End Web Developer,   Front-End Web Developer                                                                                                                                   0.271739\n",
       "Data Engineer,   Data Scientist                                                                                                                                                                               0.271739\n",
       "  Front-End Web Developer,   Mobile Developer                                                                                                                                                                 0.257437\n",
       "Full-Stack Web Developer,   Data Scientist                                                                                                                                                                    0.243135\n",
       "  Mobile Developer, Game Developer                                                                                                                                                                            0.228833\n",
       "  Data Scientist, Data Engineer                                                                                                                                                                               0.228833\n",
       "                                                                                                                                                                                                               ...    \n",
       "Data Engineer,   Quality Assurance Engineer,   Front-End Web Developer,   Data Scientist,   Mobile Developer, Back-End Web Developer, Full-Stack Web Developer                                                0.014302\n",
       "Back-End Web Developer, Full-Stack Web Developer, Game Developer,   Front-End Web Developer,   Product Manager,   User Experience Designer,   DevOps / SysAdmin,   Mobile Developer, Information Security     0.014302\n",
       "Full-Stack Web Developer,   User Experience Designer,   Mobile Developer, Back-End Web Developer,   Front-End Web Developer, Game Developer                                                                   0.014302\n",
       "  User Experience Designer,   Data Scientist, Game Developer,   Front-End Web Developer                                                                                                                       0.014302\n",
       "  Front-End Web Developer, Full-Stack Web Developer, Data Engineer, Game Developer,   Data Scientist, Back-End Web Developer                                                                                  0.014302\n",
       "  Front-End Web Developer,   Quality Assurance Engineer,   Data Scientist, Full-Stack Web Developer, Back-End Web Developer                                                                                   0.014302\n",
       "  User Experience Designer, Information Security                                                                                                                                                              0.014302\n",
       "Back-End Web Developer, Data Engineer, Full-Stack Web Developer,   Product Manager,   Data Scientist,   Mobile Developer                                                                                      0.014302\n",
       "  Data Scientist, Back-End Web Developer, Full-Stack Web Developer, Information Security,   Mobile Developer,   Front-End Web Developer                                                                       0.014302\n",
       "  Quality Assurance Engineer, Back-End Web Developer, Full-Stack Web Developer,   Mobile Developer,   User Experience Designer                                                                                0.014302\n",
       "Pharmaceutical industry                                                                                                                                                                                       0.014302\n",
       "Back-End Web Developer,   User Experience Designer,   Mobile Developer, Game Developer,   Front-End Web Developer, Full-Stack Web Developer                                                                   0.014302\n",
       "  Front-End Web Developer,   Mobile Developer, Back-End Web Developer, Full-Stack Web Developer,   Data Scientist, Game Developer                                                                             0.014302\n",
       "  Front-End Web Developer,   User Experience Designer,   Mobile Developer, Entrepreneur                                                                                                                       0.014302\n",
       "Full-Stack Web Developer,   Front-End Web Developer,   DevOps / SysAdmin                                                                                                                                      0.014302\n",
       "  Mobile Developer,   Data Scientist, Full-Stack Web Developer, Game Developer                                                                                                                                0.014302\n",
       "Data Engineer,   DevOps / SysAdmin,   Data Scientist, Back-End Web Developer,   Front-End Web Developer, Full-Stack Web Developer,   Mobile Developer                                                         0.014302\n",
       "Information Security,   Front-End Web Developer,   User Experience Designer                                                                                                                                   0.014302\n",
       "Data Engineer,   DevOps / SysAdmin,   Data Scientist, Game Developer,   Front-End Web Developer                                                                                                               0.014302\n",
       "Game Developer,   Mobile Developer, Information Security,   User Experience Designer                                                                                                                          0.014302\n",
       "  Data Scientist,   Mobile Developer,   Front-End Web Developer, Full-Stack Web Developer, Data Engineer,   DevOps / SysAdmin,   User Experience Designer                                                     0.014302\n",
       "Information Security, Full-Stack Web Developer,   DevOps / SysAdmin                                                                                                                                           0.014302\n",
       "  DevOps / SysAdmin,   Data Scientist, Full-Stack Web Developer,   Front-End Web Developer, Back-End Web Developer                                                                                            0.014302\n",
       "Full-Stack Web Developer,   Product Manager,   User Experience Designer,   Mobile Developer, Information Security                                                                                             0.014302\n",
       "Information Security,   Data Scientist, Data Engineer,   Mobile Developer, Full-Stack Web Developer, Game Developer                                                                                           0.014302\n",
       "Information Security,   Mobile Developer,   Front-End Web Developer, Back-End Web Developer                                                                                                                   0.014302\n",
       "Data Engineer, Full-Stack Web Developer, Game Developer                                                                                                                                                       0.014302\n",
       "  Front-End Web Developer, Game Developer, Back-End Web Developer,   Mobile Developer                                                                                                                         0.014302\n",
       "  Mobile Developer, Data Engineer, Back-End Web Developer, Game Developer,   Front-End Web Developer,   Data Scientist, Full-Stack Web Developer,   User Experience Designer                                  0.014302\n",
       "  User Experience Designer,   Data Scientist,   Front-End Web Developer, Full-Stack Web Developer                                                                                                             0.014302\n",
       "Name: JobRoleInterest, Length: 3213, dtype: float64"
      ]
     },
     "execution_count": 35,
     "metadata": {},
     "output_type": "execute_result"
    }
   ],
   "source": [
    "# Frequency distribution table for 'JobRoleInterest\n",
    "\n",
    "fcc['JobRoleInterest'].value_counts(normalize = True)*100"
   ]
  },
  {
   "cell_type": "markdown",
   "metadata": {},
   "source": [
    "\n",
    " #   A lot of people are interested in web development (full-stack web development, front-end web development and back-end web development).\n",
    " #   And also Some people (2.17 %) are interested in Data Science.\n",
    " #   A few people (1.7%) are interested in mobile development\n",
    "  #  Not too many people are interested in domains other than web and mobile development.\n",
    "'''"
   ]
  },
  {
   "cell_type": "markdown",
   "metadata": {},
   "source": [
    "##  It’s also interesting to note that many respondents are interested in more than one subject. \n",
    "## It’d be useful to get a better picture of how many people are interested in a single subject\n",
    "## and how many have mixed interests"
   ]
  },
  {
   "cell_type": "code",
   "execution_count": 36,
   "metadata": {},
   "outputs": [
    {
     "data": {
      "text/plain": [
       "1     31.650458\n",
       "2     10.883867\n",
       "3     15.889588\n",
       "4     15.217391\n",
       "5     12.042334\n",
       "6      6.721968\n",
       "7      3.861556\n",
       "8      1.759153\n",
       "9      0.986842\n",
       "10     0.471968\n",
       "11     0.185927\n",
       "12     0.300343\n",
       "13     0.028604\n",
       "Name: JobRoleInterest, dtype: float64"
      ]
     },
     "execution_count": 36,
     "metadata": {},
     "output_type": "execute_result"
    }
   ],
   "source": [
    " # Split each string in the 'JobRoleInterest' column\n",
    "\n",
    "interests_no_nulls  = fcc['JobRoleInterest'].dropna()\n",
    "splitted_interests = interests_no_nulls.str.split(',')\n",
    "\n",
    "# Frequency table for the var describing the number of options\n",
    "\n",
    "n_of_options = splitted_interests.apply(lambda x: len(x))       # x is a list of job options\n",
    "n_of_options.value_counts(normalize = True).sort_index() * 100\n"
   ]
  },
  {
   "cell_type": "markdown",
   "metadata": {},
   "source": [
    "# Only 31.7% of the participants have a clear idea about what programming niche they’d like to work in,\n",
    "# while the vast majority of students have mixed interests"
   ]
  },
  {
   "cell_type": "code",
   "execution_count": null,
   "metadata": {},
   "outputs": [],
   "source": []
  },
  {
   "cell_type": "markdown",
   "metadata": {},
   "source": [
    "# The focus of our courses is on web developement and data science,"
   ]
  },
  {
   "cell_type": "code",
   "execution_count": 37,
   "metadata": {},
   "outputs": [
    {
     "name": "stdout",
     "output_type": "stream",
     "text": [
      "True     88.143593\n",
      "False    11.856407\n",
      "Name: JobRoleInterest, dtype: float64\n"
     ]
    }
   ],
   "source": [
    "\n",
    "# Frequency table\n",
    "\n",
    "web_or_datascience = interests_no_nulls.str.contains(\n",
    "                     'Web Developer| Data Scientist')                       # returns an array of booleans\n",
    "\n",
    "freq_table = web_or_datascience.value_counts(normalize = True) * 100\n",
    "print(freq_table)"
   ]
  },
  {
   "cell_type": "markdown",
   "metadata": {},
   "source": [
    "# Graph for the frequency table above"
   ]
  },
  {
   "cell_type": "code",
   "execution_count": 38,
   "metadata": {},
   "outputs": [
    {
     "data": {
      "image/png": "[encoded data removed]",
      "text/plain": [
       "<Figure size 432x288 with 1 Axes>"
      ]
     },
     "metadata": {},
     "output_type": "display_data"
    }
   ],
   "source": [
    "# Graph for the frequency table above\n",
    "\n",
    "\n",
    "plt.style.use('fivethirtyeight')\n",
    "\n",
    "freq_table.plot.bar()\n",
    "plt.title('''Most Participants are Interested in \\nWeb or data science\n",
    "           Development''', y = 1.08,color='green')                      # y pads the title upward\n",
    "\n",
    "plt.ylabel('Percentage', fontsize = 13)\n",
    "\n",
    "plt.xticks([0,1],['Web or data_science\\ndevelopment', 'Other subject'],\n",
    "           rotation = 0,fontsize=12)                                                  # the initial xtick labels were True and False\n",
    "\n",
    "plt.ylim([0,100])\n",
    "plt.show()"
   ]
  },
  {
   "cell_type": "markdown",
   "metadata": {},
   "source": [
    "# Most people in this survey (roughly 86%) are interested in either web Devlope     or Data Science."
   ]
  },
  {
   "cell_type": "code",
   "execution_count": 39,
   "metadata": {},
   "outputs": [],
   "source": [
    "# Isolate the participants that answered what role they'd be interested in\n",
    "fcc_good = fcc[fcc['JobRoleInterest'].notnull()].copy()\n",
    "\n"
   ]
  },
  {
   "cell_type": "code",
   "execution_count": 40,
   "metadata": {},
   "outputs": [],
   "source": [
    "# Frequency tables with absolute and relative frequencies\n",
    "absolute_frequencies = fcc_good['CountryLive'].value_counts()\n",
    "relative_frequencies = fcc_good['CountryLive'].value_counts(normalize = True) * 100\n",
    "\n"
   ]
  },
  {
   "cell_type": "markdown",
   "metadata": {},
   "source": [
    " # New coders — locations and densities\n",
    "\n",
    " # finding out where these new coders are located, \n",
    " # and the densities (how many new coders there are) for each location. \n",
    " #   This should be a good start for finding out the best two markets for selling our courses"
   ]
  },
  {
   "cell_type": "code",
   "execution_count": 41,
   "metadata": {},
   "outputs": [
    {
     "data": {
      "text/html": [
       "<div>\n",
       "<style scoped>\n",
       "    .dataframe tbody tr th:only-of-type {\n",
       "        vertical-align: middle;\n",
       "    }\n",
       "\n",
       "    .dataframe tbody tr th {\n",
       "        vertical-align: top;\n",
       "    }\n",
       "\n",
       "    .dataframe thead th {\n",
       "        text-align: right;\n",
       "    }\n",
       "</style>\n",
       "<table border=\"1\" class=\"dataframe\">\n",
       "  <thead>\n",
       "    <tr style=\"text-align: right;\">\n",
       "      <th></th>\n",
       "      <th>Absolute frequency</th>\n",
       "      <th>Percentage</th>\n",
       "    </tr>\n",
       "  </thead>\n",
       "  <tbody>\n",
       "    <tr>\n",
       "      <th>United States of America</th>\n",
       "      <td>3125</td>\n",
       "      <td>45.700497</td>\n",
       "    </tr>\n",
       "    <tr>\n",
       "      <th>India</th>\n",
       "      <td>528</td>\n",
       "      <td>7.721556</td>\n",
       "    </tr>\n",
       "    <tr>\n",
       "      <th>United Kingdom</th>\n",
       "      <td>315</td>\n",
       "      <td>4.606610</td>\n",
       "    </tr>\n",
       "    <tr>\n",
       "      <th>Canada</th>\n",
       "      <td>260</td>\n",
       "      <td>3.802281</td>\n",
       "    </tr>\n",
       "    <tr>\n",
       "      <th>Poland</th>\n",
       "      <td>131</td>\n",
       "      <td>1.915765</td>\n",
       "    </tr>\n",
       "  </tbody>\n",
       "</table>\n",
       "</div>"
      ],
      "text/plain": [
       "                          Absolute frequency  Percentage\n",
       "United States of America                3125   45.700497\n",
       "India                                    528    7.721556\n",
       "United Kingdom                           315    4.606610\n",
       "Canada                                   260    3.802281\n",
       "Poland                                   131    1.915765"
      ]
     },
     "execution_count": 41,
     "metadata": {},
     "output_type": "execute_result"
    }
   ],
   "source": [
    "# Display the frequency tables in a more readable format\n",
    "pd.DataFrame(data = {'Absolute frequency': absolute_frequencies,\n",
    "                      'Percentage': relative_frequencies}\n",
    "            ).head()"
   ]
  },
  {
   "cell_type": "markdown",
   "metadata": {},
   "source": [
    "# 45.7% of our potential customers are located in the US\n",
    "# India has the second customer density, but it’s just 7.7%"
   ]
  },
  {
   "cell_type": "code",
   "execution_count": null,
   "metadata": {},
   "outputs": [],
   "source": []
  },
  {
   "cell_type": "markdown",
   "metadata": {},
   "source": [
    " # Spending money for learning\n",
    " # figure out how much money people are actually willing to spend on learning."
   ]
  },
  {
   "cell_type": "code",
   "execution_count": null,
   "metadata": {},
   "outputs": [],
   "source": []
  },
  {
   "cell_type": "markdown",
   "metadata": {},
   "source": [
    "## The \"MoneyForLearning\" column describes in American dollars the amount of money spent by participants"
   ]
  },
  {
   "cell_type": "code",
   "execution_count": 42,
   "metadata": {},
   "outputs": [],
   "source": [
    "# creating a new column that describes the amount of money a student has spent per month so far\n",
    "# To do that, we’ll need to divide the MoneyForLearning column to the MonthsProgramming column\n",
    "#  In MonthsProgramming columns , some values is 0, and if we not removed this, give error when devide\n",
    "# To avoid dividing by 0, we’ll replace 0 with 1 in the MonthsProgramming column."
   ]
  },
  {
   "cell_type": "code",
   "execution_count": 43,
   "metadata": {},
   "outputs": [],
   "source": [
    "# Replace 0s with 1s to avoid division by 0\n",
    "\n",
    "fcc_good['MonthsProgramming'].replace(0,1, inplace = True)"
   ]
  },
  {
   "cell_type": "code",
   "execution_count": 44,
   "metadata": {},
   "outputs": [
    {
     "data": {
      "text/plain": [
       "675"
      ]
     },
     "execution_count": 44,
     "metadata": {},
     "output_type": "execute_result"
    }
   ],
   "source": [
    "# New column for the amount of money each student spends each month\n",
    "\n",
    "fcc_good['money_per_month'] = fcc_good['MoneyForLearning'] / fcc_good['MonthsProgramming']\n",
    "\n",
    "fcc_good['money_per_month'].isnull().sum()"
   ]
  },
  {
   "cell_type": "code",
   "execution_count": 45,
   "metadata": {},
   "outputs": [],
   "source": [
    "# Keep only the rows with non-nulls in the `money_per_month` column \n",
    "fcc_good = fcc_good[fcc_good['money_per_month'].notnull()]"
   ]
  },
  {
   "cell_type": "markdown",
   "metadata": {},
   "source": [
    "## We want to group the data by country,\n",
    "## and then measure the average amount of money that students spend per month in each country.\n",
    "## First, let’s remove the rows having null values for the CountryLive column"
   ]
  },
  {
   "cell_type": "code",
   "execution_count": 46,
   "metadata": {},
   "outputs": [
    {
     "data": {
      "text/plain": [
       "United States of America    2933\n",
       "India                        463\n",
       "United Kingdom               279\n",
       "Canada                       240\n",
       "Poland                       122\n",
       "Name: CountryLive, dtype: int64"
      ]
     },
     "execution_count": 46,
     "metadata": {},
     "output_type": "execute_result"
    }
   ],
   "source": [
    "# Remove the rows with null values in 'CountryLive'\n",
    "\n",
    "fcc_good = fcc_good[fcc_good['CountryLive'].notnull()]\n",
    "\n",
    "# Frequency table to check if we still have enough data\n",
    "\n",
    "fcc_good['CountryLive'].value_counts().head()"
   ]
  },
  {
   "cell_type": "markdown",
   "metadata": {},
   "source": [
    "## so let’s compute the average value spent per month in each country by a student"
   ]
  },
  {
   "cell_type": "code",
   "execution_count": 47,
   "metadata": {},
   "outputs": [
    {
     "data": {
      "text/plain": [
       "CountryLive\n",
       "United States of America    227.997996\n",
       "India                       135.100982\n",
       "United Kingdom               45.534443\n",
       "Canada                      113.510961\n",
       "Name: money_per_month, dtype: float64"
      ]
     },
     "execution_count": 47,
     "metadata": {},
     "output_type": "execute_result"
    }
   ],
   "source": [
    "# Mean sum of money spent by students each month\n",
    "\n",
    "countries_mean = fcc_good.groupby('CountryLive').mean()\n",
    "\n",
    "countries_mean['money_per_month'][['United States of America',\n",
    "                            'India', 'United Kingdom',\n",
    "                            'Canada']]"
   ]
  },
  {
   "cell_type": "code",
   "execution_count": null,
   "metadata": {},
   "outputs": [],
   "source": []
  },
  {
   "cell_type": "markdown",
   "metadata": {},
   "source": [
    "# Dealing with extreme outliers\n",
    "\n",
    "# Because in india students spent more money than UK and Canada\n",
    "\n",
    " # Let’s use box plots to visualize the distribution of the money_per_month variable for each country."
   ]
  },
  {
   "cell_type": "code",
   "execution_count": 48,
   "metadata": {},
   "outputs": [],
   "source": [
    "# Isolate only the countries of interest\n",
    "\n",
    "only_4 = fcc_good[fcc_good['CountryLive'].str.contains(\n",
    "    \n",
    "             'United States of America|India|United Kingdom|Canada')]\n"
   ]
  },
  {
   "cell_type": "code",
   "execution_count": 57,
   "metadata": {},
   "outputs": [
    {
     "data": {
      "image/png": "[encoded data removed]",
      "text/plain": [
       "<Figure size 432x288 with 1 Axes>"
      ]
     },
     "metadata": {},
     "output_type": "display_data"
    }
   ],
   "source": [
    "# Box plots to visualize distributions\n",
    "\n",
    "sns.boxplot(y = 'money_per_month', x = 'CountryLive',\n",
    "            data = only_4)\n",
    "plt.title('Money Spent Per Month Per Country\\n(Distributions)', fontsize = 16,color='blue')\n",
    "plt.ylabel('Money per month (US dollars)')\n",
    "plt.xlabel('Country',color='green')\n",
    "plt.xticks(range(4), ['US', 'UK', 'India', 'Canada'])   # avoids tick labels overlap\n",
    "plt.show()"
   ]
  },
  {
   "cell_type": "markdown",
   "metadata": {},
   "source": [
    "### In US looks two persons spend 50,000 dollar or more each month for learning.\n",
    "### This is not impossible, but it seems extremely unlikely,\n",
    "### so we’ll remove every value that goes over 20,000 dollars per month"
   ]
  },
  {
   "cell_type": "code",
   "execution_count": null,
   "metadata": {},
   "outputs": [],
   "source": []
  },
  {
   "cell_type": "code",
   "execution_count": 58,
   "metadata": {},
   "outputs": [],
   "source": [
    "# Isolate only those participants who spend less than 20000 per month\n",
    "\n",
    "fcc_good = fcc_good[fcc_good['money_per_month'] < 20000]"
   ]
  },
  {
   "cell_type": "markdown",
   "metadata": {},
   "source": [
    "# Now let’s recompute the mean values and plot the box plots again."
   ]
  },
  {
   "cell_type": "code",
   "execution_count": null,
   "metadata": {},
   "outputs": [],
   "source": []
  },
  {
   "cell_type": "code",
   "execution_count": 59,
   "metadata": {},
   "outputs": [
    {
     "data": {
      "text/plain": [
       "CountryLive\n",
       "United States of America    183.800110\n",
       "India                       135.100982\n",
       "United Kingdom               45.534443\n",
       "Canada                      113.510961\n",
       "Name: money_per_month, dtype: float64"
      ]
     },
     "execution_count": 59,
     "metadata": {},
     "output_type": "execute_result"
    }
   ],
   "source": [
    "# Recompute Mean of - sum of money spent by students each month\n",
    "\n",
    "countries_mean = fcc_good.groupby('CountryLive').mean()\n",
    "\n",
    "countries_mean['money_per_month'][['United States of America',\n",
    "                            'India', 'United Kingdom',\n",
    "                            'Canada']]"
   ]
  },
  {
   "cell_type": "code",
   "execution_count": 61,
   "metadata": {},
   "outputs": [
    {
     "data": {
      "image/png": "[encoded data removed]",
      "text/plain": [
       "<Figure size 432x288 with 1 Axes>"
      ]
     },
     "metadata": {},
     "output_type": "display_data"
    }
   ],
   "source": [
    "# Isolate again the countries of interest\n",
    "\n",
    "only_4 = fcc_good[fcc_good['CountryLive'].str.contains(\n",
    "    'United States of America|India|United Kingdom|Canada')]\n",
    "\n",
    "\n",
    "# Box plots to visualize distributions\n",
    "\n",
    "\n",
    "sns.boxplot(y = 'money_per_month', x = 'CountryLive',\n",
    "            data = only_4)\n",
    "plt.title('Money Spent Per Month Per Country\\n(Distributions)',\n",
    "         fontsize = 16,color='blue')\n",
    "plt.ylabel('Money per month (US dollars)')\n",
    "plt.xlabel('Country',color='green')\n",
    "plt.xticks(range(4), ['US', 'UK', 'India', 'Canada'])    # avoids tick labels overlap\n",
    "\n",
    "plt.show()"
   ]
  },
  {
   "cell_type": "markdown",
   "metadata": {},
   "source": [
    "## We can see a few extreme outliers for India (values over 2,500 per month),\n",
    "## but it’s unclear whether this is good data or not"
   ]
  },
  {
   "cell_type": "code",
   "execution_count": 62,
   "metadata": {},
   "outputs": [
    {
     "data": {
      "text/html": [
       "<div>\n",
       "<style scoped>\n",
       "    .dataframe tbody tr th:only-of-type {\n",
       "        vertical-align: middle;\n",
       "    }\n",
       "\n",
       "    .dataframe tbody tr th {\n",
       "        vertical-align: top;\n",
       "    }\n",
       "\n",
       "    .dataframe thead th {\n",
       "        text-align: right;\n",
       "    }\n",
       "</style>\n",
       "<table border=\"1\" class=\"dataframe\">\n",
       "  <thead>\n",
       "    <tr style=\"text-align: right;\">\n",
       "      <th></th>\n",
       "      <th>Age</th>\n",
       "      <th>AttendedBootcamp</th>\n",
       "      <th>BootcampFinish</th>\n",
       "      <th>BootcampLoanYesNo</th>\n",
       "      <th>BootcampName</th>\n",
       "      <th>BootcampRecommend</th>\n",
       "      <th>ChildrenNumber</th>\n",
       "      <th>CityPopulation</th>\n",
       "      <th>CodeEventConferences</th>\n",
       "      <th>CodeEventDjangoGirls</th>\n",
       "      <th>...</th>\n",
       "      <th>YouTubeFunFunFunction</th>\n",
       "      <th>YouTubeGoogleDev</th>\n",
       "      <th>YouTubeLearnCode</th>\n",
       "      <th>YouTubeLevelUpTuts</th>\n",
       "      <th>YouTubeMIT</th>\n",
       "      <th>YouTubeMozillaHacks</th>\n",
       "      <th>YouTubeOther</th>\n",
       "      <th>YouTubeSimplilearn</th>\n",
       "      <th>YouTubeTheNewBoston</th>\n",
       "      <th>money_per_month</th>\n",
       "    </tr>\n",
       "  </thead>\n",
       "  <tbody>\n",
       "    <tr>\n",
       "      <th>1728</th>\n",
       "      <td>24.0</td>\n",
       "      <td>0.0</td>\n",
       "      <td>NaN</td>\n",
       "      <td>NaN</td>\n",
       "      <td>NaN</td>\n",
       "      <td>NaN</td>\n",
       "      <td>NaN</td>\n",
       "      <td>between 100,000 and 1 million</td>\n",
       "      <td>NaN</td>\n",
       "      <td>NaN</td>\n",
       "      <td>...</td>\n",
       "      <td>NaN</td>\n",
       "      <td>NaN</td>\n",
       "      <td>NaN</td>\n",
       "      <td>NaN</td>\n",
       "      <td>NaN</td>\n",
       "      <td>NaN</td>\n",
       "      <td>NaN</td>\n",
       "      <td>NaN</td>\n",
       "      <td>NaN</td>\n",
       "      <td>5000.000000</td>\n",
       "    </tr>\n",
       "    <tr>\n",
       "      <th>1755</th>\n",
       "      <td>20.0</td>\n",
       "      <td>0.0</td>\n",
       "      <td>NaN</td>\n",
       "      <td>NaN</td>\n",
       "      <td>NaN</td>\n",
       "      <td>NaN</td>\n",
       "      <td>NaN</td>\n",
       "      <td>more than 1 million</td>\n",
       "      <td>NaN</td>\n",
       "      <td>NaN</td>\n",
       "      <td>...</td>\n",
       "      <td>NaN</td>\n",
       "      <td>NaN</td>\n",
       "      <td>1.0</td>\n",
       "      <td>NaN</td>\n",
       "      <td>1.0</td>\n",
       "      <td>NaN</td>\n",
       "      <td>NaN</td>\n",
       "      <td>NaN</td>\n",
       "      <td>NaN</td>\n",
       "      <td>3333.333333</td>\n",
       "    </tr>\n",
       "    <tr>\n",
       "      <th>7989</th>\n",
       "      <td>28.0</td>\n",
       "      <td>0.0</td>\n",
       "      <td>NaN</td>\n",
       "      <td>NaN</td>\n",
       "      <td>NaN</td>\n",
       "      <td>NaN</td>\n",
       "      <td>NaN</td>\n",
       "      <td>between 100,000 and 1 million</td>\n",
       "      <td>1.0</td>\n",
       "      <td>NaN</td>\n",
       "      <td>...</td>\n",
       "      <td>NaN</td>\n",
       "      <td>NaN</td>\n",
       "      <td>NaN</td>\n",
       "      <td>NaN</td>\n",
       "      <td>NaN</td>\n",
       "      <td>NaN</td>\n",
       "      <td>NaN</td>\n",
       "      <td>NaN</td>\n",
       "      <td>NaN</td>\n",
       "      <td>5000.000000</td>\n",
       "    </tr>\n",
       "    <tr>\n",
       "      <th>8126</th>\n",
       "      <td>22.0</td>\n",
       "      <td>0.0</td>\n",
       "      <td>NaN</td>\n",
       "      <td>NaN</td>\n",
       "      <td>NaN</td>\n",
       "      <td>NaN</td>\n",
       "      <td>NaN</td>\n",
       "      <td>more than 1 million</td>\n",
       "      <td>NaN</td>\n",
       "      <td>NaN</td>\n",
       "      <td>...</td>\n",
       "      <td>NaN</td>\n",
       "      <td>1.0</td>\n",
       "      <td>NaN</td>\n",
       "      <td>NaN</td>\n",
       "      <td>1.0</td>\n",
       "      <td>NaN</td>\n",
       "      <td>NaN</td>\n",
       "      <td>NaN</td>\n",
       "      <td>1.0</td>\n",
       "      <td>5000.000000</td>\n",
       "    </tr>\n",
       "    <tr>\n",
       "      <th>13398</th>\n",
       "      <td>19.0</td>\n",
       "      <td>0.0</td>\n",
       "      <td>NaN</td>\n",
       "      <td>NaN</td>\n",
       "      <td>NaN</td>\n",
       "      <td>NaN</td>\n",
       "      <td>NaN</td>\n",
       "      <td>more than 1 million</td>\n",
       "      <td>NaN</td>\n",
       "      <td>NaN</td>\n",
       "      <td>...</td>\n",
       "      <td>NaN</td>\n",
       "      <td>NaN</td>\n",
       "      <td>NaN</td>\n",
       "      <td>NaN</td>\n",
       "      <td>NaN</td>\n",
       "      <td>NaN</td>\n",
       "      <td>NaN</td>\n",
       "      <td>NaN</td>\n",
       "      <td>NaN</td>\n",
       "      <td>10000.000000</td>\n",
       "    </tr>\n",
       "    <tr>\n",
       "      <th>15587</th>\n",
       "      <td>27.0</td>\n",
       "      <td>0.0</td>\n",
       "      <td>NaN</td>\n",
       "      <td>NaN</td>\n",
       "      <td>NaN</td>\n",
       "      <td>NaN</td>\n",
       "      <td>NaN</td>\n",
       "      <td>more than 1 million</td>\n",
       "      <td>NaN</td>\n",
       "      <td>NaN</td>\n",
       "      <td>...</td>\n",
       "      <td>NaN</td>\n",
       "      <td>1.0</td>\n",
       "      <td>1.0</td>\n",
       "      <td>NaN</td>\n",
       "      <td>1.0</td>\n",
       "      <td>NaN</td>\n",
       "      <td>NaN</td>\n",
       "      <td>NaN</td>\n",
       "      <td>NaN</td>\n",
       "      <td>4166.666667</td>\n",
       "    </tr>\n",
       "  </tbody>\n",
       "</table>\n",
       "<p>6 rows × 137 columns</p>\n",
       "</div>"
      ],
      "text/plain": [
       "        Age  AttendedBootcamp  BootcampFinish  BootcampLoanYesNo BootcampName  \\\n",
       "1728   24.0               0.0             NaN                NaN          NaN   \n",
       "1755   20.0               0.0             NaN                NaN          NaN   \n",
       "7989   28.0               0.0             NaN                NaN          NaN   \n",
       "8126   22.0               0.0             NaN                NaN          NaN   \n",
       "13398  19.0               0.0             NaN                NaN          NaN   \n",
       "15587  27.0               0.0             NaN                NaN          NaN   \n",
       "\n",
       "       BootcampRecommend  ChildrenNumber                 CityPopulation  \\\n",
       "1728                 NaN             NaN  between 100,000 and 1 million   \n",
       "1755                 NaN             NaN            more than 1 million   \n",
       "7989                 NaN             NaN  between 100,000 and 1 million   \n",
       "8126                 NaN             NaN            more than 1 million   \n",
       "13398                NaN             NaN            more than 1 million   \n",
       "15587                NaN             NaN            more than 1 million   \n",
       "\n",
       "       CodeEventConferences  CodeEventDjangoGirls  ...  YouTubeFunFunFunction  \\\n",
       "1728                    NaN                   NaN  ...                    NaN   \n",
       "1755                    NaN                   NaN  ...                    NaN   \n",
       "7989                    1.0                   NaN  ...                    NaN   \n",
       "8126                    NaN                   NaN  ...                    NaN   \n",
       "13398                   NaN                   NaN  ...                    NaN   \n",
       "15587                   NaN                   NaN  ...                    NaN   \n",
       "\n",
       "       YouTubeGoogleDev  YouTubeLearnCode  YouTubeLevelUpTuts  YouTubeMIT  \\\n",
       "1728                NaN               NaN                 NaN         NaN   \n",
       "1755                NaN               1.0                 NaN         1.0   \n",
       "7989                NaN               NaN                 NaN         NaN   \n",
       "8126                1.0               NaN                 NaN         1.0   \n",
       "13398               NaN               NaN                 NaN         NaN   \n",
       "15587               1.0               1.0                 NaN         1.0   \n",
       "\n",
       "       YouTubeMozillaHacks  YouTubeOther YouTubeSimplilearn  \\\n",
       "1728                   NaN           NaN                NaN   \n",
       "1755                   NaN           NaN                NaN   \n",
       "7989                   NaN           NaN                NaN   \n",
       "8126                   NaN           NaN                NaN   \n",
       "13398                  NaN           NaN                NaN   \n",
       "15587                  NaN           NaN                NaN   \n",
       "\n",
       "       YouTubeTheNewBoston  money_per_month  \n",
       "1728                   NaN      5000.000000  \n",
       "1755                   NaN      3333.333333  \n",
       "7989                   NaN      5000.000000  \n",
       "8126                   1.0      5000.000000  \n",
       "13398                  NaN     10000.000000  \n",
       "15587                  NaN      4166.666667  \n",
       "\n",
       "[6 rows x 137 columns]"
      ]
     },
     "execution_count": 62,
     "metadata": {},
     "output_type": "execute_result"
    }
   ],
   "source": [
    "# Inspect the extreme outliers for India\n",
    "india_outliers = only_4[\n",
    "                 (only_4['CountryLive'] == 'India') &\n",
    "                 (only_4['money_per_month'] >= 2500)]\n",
    "india_outliers"
   ]
  },
  {
   "cell_type": "markdown",
   "metadata": {},
   "source": [
    "### It seems that neither participant attended a bootcamp. \n",
    "### Overall, it’s really hard to figure out from the data whether these persons really spent that much money with learning"
   ]
  },
  {
   "cell_type": "markdown",
   "metadata": {},
   "source": [
    "## So remove these outliers"
   ]
  },
  {
   "cell_type": "code",
   "execution_count": 63,
   "metadata": {},
   "outputs": [],
   "source": [
    "\n",
    "# Remove the outliers for India\n",
    "\n",
    "only_4 = only_4.drop(india_outliers.index)       # using the row labels"
   ]
  },
  {
   "cell_type": "markdown",
   "metadata": {},
   "source": [
    "# Now check the outliers of US"
   ]
  },
  {
   "cell_type": "code",
   "execution_count": 64,
   "metadata": {},
   "outputs": [
    {
     "data": {
      "text/html": [
       "<div>\n",
       "<style scoped>\n",
       "    .dataframe tbody tr th:only-of-type {\n",
       "        vertical-align: middle;\n",
       "    }\n",
       "\n",
       "    .dataframe tbody tr th {\n",
       "        vertical-align: top;\n",
       "    }\n",
       "\n",
       "    .dataframe thead th {\n",
       "        text-align: right;\n",
       "    }\n",
       "</style>\n",
       "<table border=\"1\" class=\"dataframe\">\n",
       "  <thead>\n",
       "    <tr style=\"text-align: right;\">\n",
       "      <th></th>\n",
       "      <th>Age</th>\n",
       "      <th>AttendedBootcamp</th>\n",
       "      <th>BootcampFinish</th>\n",
       "      <th>BootcampLoanYesNo</th>\n",
       "      <th>BootcampName</th>\n",
       "      <th>BootcampRecommend</th>\n",
       "      <th>ChildrenNumber</th>\n",
       "      <th>CityPopulation</th>\n",
       "      <th>CodeEventConferences</th>\n",
       "      <th>CodeEventDjangoGirls</th>\n",
       "      <th>...</th>\n",
       "      <th>YouTubeFunFunFunction</th>\n",
       "      <th>YouTubeGoogleDev</th>\n",
       "      <th>YouTubeLearnCode</th>\n",
       "      <th>YouTubeLevelUpTuts</th>\n",
       "      <th>YouTubeMIT</th>\n",
       "      <th>YouTubeMozillaHacks</th>\n",
       "      <th>YouTubeOther</th>\n",
       "      <th>YouTubeSimplilearn</th>\n",
       "      <th>YouTubeTheNewBoston</th>\n",
       "      <th>money_per_month</th>\n",
       "    </tr>\n",
       "  </thead>\n",
       "  <tbody>\n",
       "    <tr>\n",
       "      <th>718</th>\n",
       "      <td>26.0</td>\n",
       "      <td>1.0</td>\n",
       "      <td>0.0</td>\n",
       "      <td>0.0</td>\n",
       "      <td>The Coding Boot Camp at UCLA Extension</td>\n",
       "      <td>1.0</td>\n",
       "      <td>NaN</td>\n",
       "      <td>more than 1 million</td>\n",
       "      <td>1.0</td>\n",
       "      <td>NaN</td>\n",
       "      <td>...</td>\n",
       "      <td>NaN</td>\n",
       "      <td>NaN</td>\n",
       "      <td>NaN</td>\n",
       "      <td>NaN</td>\n",
       "      <td>NaN</td>\n",
       "      <td>NaN</td>\n",
       "      <td>NaN</td>\n",
       "      <td>NaN</td>\n",
       "      <td>NaN</td>\n",
       "      <td>8000.000000</td>\n",
       "    </tr>\n",
       "    <tr>\n",
       "      <th>1222</th>\n",
       "      <td>32.0</td>\n",
       "      <td>1.0</td>\n",
       "      <td>0.0</td>\n",
       "      <td>0.0</td>\n",
       "      <td>The Iron Yard</td>\n",
       "      <td>1.0</td>\n",
       "      <td>NaN</td>\n",
       "      <td>between 100,000 and 1 million</td>\n",
       "      <td>NaN</td>\n",
       "      <td>NaN</td>\n",
       "      <td>...</td>\n",
       "      <td>NaN</td>\n",
       "      <td>NaN</td>\n",
       "      <td>1.0</td>\n",
       "      <td>NaN</td>\n",
       "      <td>NaN</td>\n",
       "      <td>NaN</td>\n",
       "      <td>NaN</td>\n",
       "      <td>NaN</td>\n",
       "      <td>NaN</td>\n",
       "      <td>6500.000000</td>\n",
       "    </tr>\n",
       "    <tr>\n",
       "      <th>3184</th>\n",
       "      <td>34.0</td>\n",
       "      <td>1.0</td>\n",
       "      <td>1.0</td>\n",
       "      <td>0.0</td>\n",
       "      <td>We Can Code IT</td>\n",
       "      <td>1.0</td>\n",
       "      <td>NaN</td>\n",
       "      <td>more than 1 million</td>\n",
       "      <td>NaN</td>\n",
       "      <td>NaN</td>\n",
       "      <td>...</td>\n",
       "      <td>NaN</td>\n",
       "      <td>NaN</td>\n",
       "      <td>NaN</td>\n",
       "      <td>NaN</td>\n",
       "      <td>NaN</td>\n",
       "      <td>NaN</td>\n",
       "      <td>NaN</td>\n",
       "      <td>NaN</td>\n",
       "      <td>NaN</td>\n",
       "      <td>9000.000000</td>\n",
       "    </tr>\n",
       "    <tr>\n",
       "      <th>3930</th>\n",
       "      <td>31.0</td>\n",
       "      <td>0.0</td>\n",
       "      <td>NaN</td>\n",
       "      <td>NaN</td>\n",
       "      <td>NaN</td>\n",
       "      <td>NaN</td>\n",
       "      <td>NaN</td>\n",
       "      <td>between 100,000 and 1 million</td>\n",
       "      <td>NaN</td>\n",
       "      <td>NaN</td>\n",
       "      <td>...</td>\n",
       "      <td>1.0</td>\n",
       "      <td>1.0</td>\n",
       "      <td>1.0</td>\n",
       "      <td>1.0</td>\n",
       "      <td>1.0</td>\n",
       "      <td>NaN</td>\n",
       "      <td>various conf presentations</td>\n",
       "      <td>NaN</td>\n",
       "      <td>NaN</td>\n",
       "      <td>10833.333333</td>\n",
       "    </tr>\n",
       "    <tr>\n",
       "      <th>6805</th>\n",
       "      <td>46.0</td>\n",
       "      <td>1.0</td>\n",
       "      <td>1.0</td>\n",
       "      <td>1.0</td>\n",
       "      <td>Sabio.la</td>\n",
       "      <td>0.0</td>\n",
       "      <td>NaN</td>\n",
       "      <td>between 100,000 and 1 million</td>\n",
       "      <td>NaN</td>\n",
       "      <td>NaN</td>\n",
       "      <td>...</td>\n",
       "      <td>NaN</td>\n",
       "      <td>NaN</td>\n",
       "      <td>NaN</td>\n",
       "      <td>NaN</td>\n",
       "      <td>NaN</td>\n",
       "      <td>NaN</td>\n",
       "      <td>NaN</td>\n",
       "      <td>NaN</td>\n",
       "      <td>NaN</td>\n",
       "      <td>15000.000000</td>\n",
       "    </tr>\n",
       "    <tr>\n",
       "      <th>7198</th>\n",
       "      <td>32.0</td>\n",
       "      <td>0.0</td>\n",
       "      <td>NaN</td>\n",
       "      <td>NaN</td>\n",
       "      <td>NaN</td>\n",
       "      <td>NaN</td>\n",
       "      <td>NaN</td>\n",
       "      <td>more than 1 million</td>\n",
       "      <td>1.0</td>\n",
       "      <td>NaN</td>\n",
       "      <td>...</td>\n",
       "      <td>NaN</td>\n",
       "      <td>1.0</td>\n",
       "      <td>1.0</td>\n",
       "      <td>1.0</td>\n",
       "      <td>NaN</td>\n",
       "      <td>NaN</td>\n",
       "      <td>NaN</td>\n",
       "      <td>NaN</td>\n",
       "      <td>NaN</td>\n",
       "      <td>14000.000000</td>\n",
       "    </tr>\n",
       "    <tr>\n",
       "      <th>7505</th>\n",
       "      <td>26.0</td>\n",
       "      <td>1.0</td>\n",
       "      <td>0.0</td>\n",
       "      <td>1.0</td>\n",
       "      <td>Codeup</td>\n",
       "      <td>0.0</td>\n",
       "      <td>NaN</td>\n",
       "      <td>more than 1 million</td>\n",
       "      <td>NaN</td>\n",
       "      <td>NaN</td>\n",
       "      <td>...</td>\n",
       "      <td>NaN</td>\n",
       "      <td>NaN</td>\n",
       "      <td>NaN</td>\n",
       "      <td>NaN</td>\n",
       "      <td>1.0</td>\n",
       "      <td>NaN</td>\n",
       "      <td>NaN</td>\n",
       "      <td>NaN</td>\n",
       "      <td>NaN</td>\n",
       "      <td>6666.666667</td>\n",
       "    </tr>\n",
       "    <tr>\n",
       "      <th>9778</th>\n",
       "      <td>33.0</td>\n",
       "      <td>1.0</td>\n",
       "      <td>0.0</td>\n",
       "      <td>1.0</td>\n",
       "      <td>Grand Circus</td>\n",
       "      <td>1.0</td>\n",
       "      <td>NaN</td>\n",
       "      <td>between 100,000 and 1 million</td>\n",
       "      <td>NaN</td>\n",
       "      <td>NaN</td>\n",
       "      <td>...</td>\n",
       "      <td>NaN</td>\n",
       "      <td>NaN</td>\n",
       "      <td>NaN</td>\n",
       "      <td>NaN</td>\n",
       "      <td>NaN</td>\n",
       "      <td>NaN</td>\n",
       "      <td>NaN</td>\n",
       "      <td>NaN</td>\n",
       "      <td>NaN</td>\n",
       "      <td>8000.000000</td>\n",
       "    </tr>\n",
       "    <tr>\n",
       "      <th>16650</th>\n",
       "      <td>29.0</td>\n",
       "      <td>0.0</td>\n",
       "      <td>NaN</td>\n",
       "      <td>NaN</td>\n",
       "      <td>NaN</td>\n",
       "      <td>NaN</td>\n",
       "      <td>2.0</td>\n",
       "      <td>more than 1 million</td>\n",
       "      <td>NaN</td>\n",
       "      <td>NaN</td>\n",
       "      <td>...</td>\n",
       "      <td>NaN</td>\n",
       "      <td>NaN</td>\n",
       "      <td>NaN</td>\n",
       "      <td>NaN</td>\n",
       "      <td>NaN</td>\n",
       "      <td>NaN</td>\n",
       "      <td>NaN</td>\n",
       "      <td>NaN</td>\n",
       "      <td>1.0</td>\n",
       "      <td>16666.666667</td>\n",
       "    </tr>\n",
       "    <tr>\n",
       "      <th>16997</th>\n",
       "      <td>27.0</td>\n",
       "      <td>0.0</td>\n",
       "      <td>NaN</td>\n",
       "      <td>NaN</td>\n",
       "      <td>NaN</td>\n",
       "      <td>NaN</td>\n",
       "      <td>1.0</td>\n",
       "      <td>more than 1 million</td>\n",
       "      <td>NaN</td>\n",
       "      <td>NaN</td>\n",
       "      <td>...</td>\n",
       "      <td>NaN</td>\n",
       "      <td>NaN</td>\n",
       "      <td>NaN</td>\n",
       "      <td>NaN</td>\n",
       "      <td>NaN</td>\n",
       "      <td>NaN</td>\n",
       "      <td>NaN</td>\n",
       "      <td>NaN</td>\n",
       "      <td>NaN</td>\n",
       "      <td>12500.000000</td>\n",
       "    </tr>\n",
       "    <tr>\n",
       "      <th>17231</th>\n",
       "      <td>50.0</td>\n",
       "      <td>0.0</td>\n",
       "      <td>NaN</td>\n",
       "      <td>NaN</td>\n",
       "      <td>NaN</td>\n",
       "      <td>NaN</td>\n",
       "      <td>2.0</td>\n",
       "      <td>less than 100,000</td>\n",
       "      <td>NaN</td>\n",
       "      <td>NaN</td>\n",
       "      <td>...</td>\n",
       "      <td>NaN</td>\n",
       "      <td>NaN</td>\n",
       "      <td>NaN</td>\n",
       "      <td>NaN</td>\n",
       "      <td>NaN</td>\n",
       "      <td>NaN</td>\n",
       "      <td>NaN</td>\n",
       "      <td>NaN</td>\n",
       "      <td>NaN</td>\n",
       "      <td>15000.000000</td>\n",
       "    </tr>\n",
       "  </tbody>\n",
       "</table>\n",
       "<p>11 rows × 137 columns</p>\n",
       "</div>"
      ],
      "text/plain": [
       "        Age  AttendedBootcamp  BootcampFinish  BootcampLoanYesNo  \\\n",
       "718    26.0               1.0             0.0                0.0   \n",
       "1222   32.0               1.0             0.0                0.0   \n",
       "3184   34.0               1.0             1.0                0.0   \n",
       "3930   31.0               0.0             NaN                NaN   \n",
       "6805   46.0               1.0             1.0                1.0   \n",
       "7198   32.0               0.0             NaN                NaN   \n",
       "7505   26.0               1.0             0.0                1.0   \n",
       "9778   33.0               1.0             0.0                1.0   \n",
       "16650  29.0               0.0             NaN                NaN   \n",
       "16997  27.0               0.0             NaN                NaN   \n",
       "17231  50.0               0.0             NaN                NaN   \n",
       "\n",
       "                                 BootcampName  BootcampRecommend  \\\n",
       "718    The Coding Boot Camp at UCLA Extension                1.0   \n",
       "1222                            The Iron Yard                1.0   \n",
       "3184                           We Can Code IT                1.0   \n",
       "3930                                      NaN                NaN   \n",
       "6805                                 Sabio.la                0.0   \n",
       "7198                                      NaN                NaN   \n",
       "7505                                   Codeup                0.0   \n",
       "9778                             Grand Circus                1.0   \n",
       "16650                                     NaN                NaN   \n",
       "16997                                     NaN                NaN   \n",
       "17231                                     NaN                NaN   \n",
       "\n",
       "       ChildrenNumber                 CityPopulation  CodeEventConferences  \\\n",
       "718               NaN            more than 1 million                   1.0   \n",
       "1222              NaN  between 100,000 and 1 million                   NaN   \n",
       "3184              NaN            more than 1 million                   NaN   \n",
       "3930              NaN  between 100,000 and 1 million                   NaN   \n",
       "6805              NaN  between 100,000 and 1 million                   NaN   \n",
       "7198              NaN            more than 1 million                   1.0   \n",
       "7505              NaN            more than 1 million                   NaN   \n",
       "9778              NaN  between 100,000 and 1 million                   NaN   \n",
       "16650             2.0            more than 1 million                   NaN   \n",
       "16997             1.0            more than 1 million                   NaN   \n",
       "17231             2.0              less than 100,000                   NaN   \n",
       "\n",
       "       CodeEventDjangoGirls  ...  YouTubeFunFunFunction  YouTubeGoogleDev  \\\n",
       "718                     NaN  ...                    NaN               NaN   \n",
       "1222                    NaN  ...                    NaN               NaN   \n",
       "3184                    NaN  ...                    NaN               NaN   \n",
       "3930                    NaN  ...                    1.0               1.0   \n",
       "6805                    NaN  ...                    NaN               NaN   \n",
       "7198                    NaN  ...                    NaN               1.0   \n",
       "7505                    NaN  ...                    NaN               NaN   \n",
       "9778                    NaN  ...                    NaN               NaN   \n",
       "16650                   NaN  ...                    NaN               NaN   \n",
       "16997                   NaN  ...                    NaN               NaN   \n",
       "17231                   NaN  ...                    NaN               NaN   \n",
       "\n",
       "       YouTubeLearnCode  YouTubeLevelUpTuts  YouTubeMIT  YouTubeMozillaHacks  \\\n",
       "718                 NaN                 NaN         NaN                  NaN   \n",
       "1222                1.0                 NaN         NaN                  NaN   \n",
       "3184                NaN                 NaN         NaN                  NaN   \n",
       "3930                1.0                 1.0         1.0                  NaN   \n",
       "6805                NaN                 NaN         NaN                  NaN   \n",
       "7198                1.0                 1.0         NaN                  NaN   \n",
       "7505                NaN                 NaN         1.0                  NaN   \n",
       "9778                NaN                 NaN         NaN                  NaN   \n",
       "16650               NaN                 NaN         NaN                  NaN   \n",
       "16997               NaN                 NaN         NaN                  NaN   \n",
       "17231               NaN                 NaN         NaN                  NaN   \n",
       "\n",
       "                     YouTubeOther YouTubeSimplilearn  YouTubeTheNewBoston  \\\n",
       "718                           NaN                NaN                  NaN   \n",
       "1222                          NaN                NaN                  NaN   \n",
       "3184                          NaN                NaN                  NaN   \n",
       "3930   various conf presentations                NaN                  NaN   \n",
       "6805                          NaN                NaN                  NaN   \n",
       "7198                          NaN                NaN                  NaN   \n",
       "7505                          NaN                NaN                  NaN   \n",
       "9778                          NaN                NaN                  NaN   \n",
       "16650                         NaN                NaN                  1.0   \n",
       "16997                         NaN                NaN                  NaN   \n",
       "17231                         NaN                NaN                  NaN   \n",
       "\n",
       "       money_per_month  \n",
       "718        8000.000000  \n",
       "1222       6500.000000  \n",
       "3184       9000.000000  \n",
       "3930      10833.333333  \n",
       "6805      15000.000000  \n",
       "7198      14000.000000  \n",
       "7505       6666.666667  \n",
       "9778       8000.000000  \n",
       "16650     16666.666667  \n",
       "16997     12500.000000  \n",
       "17231     15000.000000  \n",
       "\n",
       "[11 rows x 137 columns]"
      ]
     },
     "execution_count": 64,
     "metadata": {},
     "output_type": "execute_result"
    }
   ],
   "source": [
    "# Examine the extreme outliers for the US\n",
    "us_outliers = only_4[\n",
    "                 (only_4['CountryLive'] == 'United States of America') &\n",
    "                 (only_4['money_per_month'] >= 6000)]\n",
    "\n",
    "us_outliers"
   ]
  },
  {
   "cell_type": "markdown",
   "metadata": {},
   "source": [
    "### Out of these 11 extreme outliers, 6 people attended bootcamps, which justifies the large sums of money spent on learning\n",
    "### Consequently, we’ll remove those rows where participants reported thay they spend 6,000 each month, but they have never attended a bootcamp."
   ]
  },
  {
   "cell_type": "code",
   "execution_count": 65,
   "metadata": {},
   "outputs": [],
   "source": [
    "# Remove the respondents who didn't attendent a bootcamp\n",
    "\n",
    "no_bootcamp = only_4[\n",
    "     (only_4['CountryLive'] == 'United States of America') &\n",
    "     (only_4['money_per_month'] >= 6000) &\n",
    "     (only_4['AttendedBootcamp'] == 0)\n",
    "   ]"
   ]
  },
  {
   "cell_type": "code",
   "execution_count": 66,
   "metadata": {},
   "outputs": [],
   "source": [
    "# Now drop these rows\n",
    "\n",
    "only_4 = only_4.drop(no_bootcamp.index)\n"
   ]
  },
  {
   "cell_type": "markdown",
   "metadata": {},
   "source": [
    "### Also, the data shows that eight respondents had been programming for no more than three months when they completed the survey\n",
    "### so remove these outliers also,because its seem unrealistic"
   ]
  },
  {
   "cell_type": "code",
   "execution_count": 67,
   "metadata": {},
   "outputs": [],
   "source": [
    "# Remove the respondents that had been programming for less than 3 months\n",
    "\n",
    "less_than_3_months = only_4[\n",
    "    (only_4['CountryLive'] == 'United States of America') &\n",
    "    (only_4['money_per_month'] >= 6000) &\n",
    "    (only_4['MonthsProgramming'] <= 3)\n",
    "\n",
    "  ]\n"
   ]
  },
  {
   "cell_type": "code",
   "execution_count": 68,
   "metadata": {},
   "outputs": [],
   "source": [
    "# Now drop these outliers row\n",
    "\n",
    "only_4 = only_4.drop(less_than_3_months.index)"
   ]
  },
  {
   "cell_type": "code",
   "execution_count": null,
   "metadata": {},
   "outputs": [],
   "source": []
  },
  {
   "cell_type": "markdown",
   "metadata": {},
   "source": [
    "# Examine the extreme outliers for Canada"
   ]
  },
  {
   "cell_type": "code",
   "execution_count": 69,
   "metadata": {},
   "outputs": [
    {
     "data": {
      "text/html": [
       "<div>\n",
       "<style scoped>\n",
       "    .dataframe tbody tr th:only-of-type {\n",
       "        vertical-align: middle;\n",
       "    }\n",
       "\n",
       "    .dataframe tbody tr th {\n",
       "        vertical-align: top;\n",
       "    }\n",
       "\n",
       "    .dataframe thead th {\n",
       "        text-align: right;\n",
       "    }\n",
       "</style>\n",
       "<table border=\"1\" class=\"dataframe\">\n",
       "  <thead>\n",
       "    <tr style=\"text-align: right;\">\n",
       "      <th></th>\n",
       "      <th>Age</th>\n",
       "      <th>AttendedBootcamp</th>\n",
       "      <th>BootcampFinish</th>\n",
       "      <th>BootcampLoanYesNo</th>\n",
       "      <th>BootcampName</th>\n",
       "      <th>BootcampRecommend</th>\n",
       "      <th>ChildrenNumber</th>\n",
       "      <th>CityPopulation</th>\n",
       "      <th>CodeEventConferences</th>\n",
       "      <th>CodeEventDjangoGirls</th>\n",
       "      <th>...</th>\n",
       "      <th>YouTubeFunFunFunction</th>\n",
       "      <th>YouTubeGoogleDev</th>\n",
       "      <th>YouTubeLearnCode</th>\n",
       "      <th>YouTubeLevelUpTuts</th>\n",
       "      <th>YouTubeMIT</th>\n",
       "      <th>YouTubeMozillaHacks</th>\n",
       "      <th>YouTubeOther</th>\n",
       "      <th>YouTubeSimplilearn</th>\n",
       "      <th>YouTubeTheNewBoston</th>\n",
       "      <th>money_per_month</th>\n",
       "    </tr>\n",
       "  </thead>\n",
       "  <tbody>\n",
       "    <tr>\n",
       "      <th>13659</th>\n",
       "      <td>24.0</td>\n",
       "      <td>1.0</td>\n",
       "      <td>0.0</td>\n",
       "      <td>0.0</td>\n",
       "      <td>Bloc.io</td>\n",
       "      <td>1.0</td>\n",
       "      <td>NaN</td>\n",
       "      <td>more than 1 million</td>\n",
       "      <td>1.0</td>\n",
       "      <td>NaN</td>\n",
       "      <td>...</td>\n",
       "      <td>NaN</td>\n",
       "      <td>NaN</td>\n",
       "      <td>NaN</td>\n",
       "      <td>NaN</td>\n",
       "      <td>1.0</td>\n",
       "      <td>NaN</td>\n",
       "      <td>NaN</td>\n",
       "      <td>NaN</td>\n",
       "      <td>NaN</td>\n",
       "      <td>5000.0</td>\n",
       "    </tr>\n",
       "  </tbody>\n",
       "</table>\n",
       "<p>1 rows × 137 columns</p>\n",
       "</div>"
      ],
      "text/plain": [
       "        Age  AttendedBootcamp  BootcampFinish  BootcampLoanYesNo BootcampName  \\\n",
       "13659  24.0               1.0             0.0                0.0      Bloc.io   \n",
       "\n",
       "       BootcampRecommend  ChildrenNumber       CityPopulation  \\\n",
       "13659                1.0             NaN  more than 1 million   \n",
       "\n",
       "       CodeEventConferences  CodeEventDjangoGirls  ...  YouTubeFunFunFunction  \\\n",
       "13659                   1.0                   NaN  ...                    NaN   \n",
       "\n",
       "       YouTubeGoogleDev  YouTubeLearnCode  YouTubeLevelUpTuts  YouTubeMIT  \\\n",
       "13659               NaN               NaN                 NaN         1.0   \n",
       "\n",
       "       YouTubeMozillaHacks  YouTubeOther YouTubeSimplilearn  \\\n",
       "13659                  NaN           NaN                NaN   \n",
       "\n",
       "       YouTubeTheNewBoston  money_per_month  \n",
       "13659                  NaN           5000.0  \n",
       "\n",
       "[1 rows x 137 columns]"
      ]
     },
     "execution_count": 69,
     "metadata": {},
     "output_type": "execute_result"
    }
   ],
   "source": [
    "canada_outliers = only_4[\n",
    "    (only_4['CountryLive'] == 'Canada') &\n",
    "    (only_4['money_per_month'] > 4500)]\n",
    "\n",
    "canada_outliers"
   ]
  },
  {
   "cell_type": "code",
   "execution_count": 70,
   "metadata": {},
   "outputs": [],
   "source": [
    "# Now drop this outliers row\n",
    "\n",
    "only_4 =only_4.drop(canada_outliers.index)"
   ]
  },
  {
   "cell_type": "code",
   "execution_count": null,
   "metadata": {},
   "outputs": [],
   "source": []
  },
  {
   "cell_type": "markdown",
   "metadata": {},
   "source": [
    "# Let’s recompute the mean values and generate the final box plots"
   ]
  },
  {
   "cell_type": "code",
   "execution_count": 75,
   "metadata": {},
   "outputs": [
    {
     "data": {
      "text/plain": [
       "CountryLive\n",
       "Canada                       93.065400\n",
       "India                        65.758763\n",
       "United Kingdom               45.534443\n",
       "United States of America    142.654608\n",
       "Name: money_per_month, dtype: float64"
      ]
     },
     "execution_count": 75,
     "metadata": {},
     "output_type": "execute_result"
    }
   ],
   "source": [
    "# Recompute mean sum of money spent by students each month\n",
    "\n",
    "only_4.groupby('CountryLive').mean()['money_per_month']"
   ]
  },
  {
   "cell_type": "code",
   "execution_count": null,
   "metadata": {},
   "outputs": [],
   "source": []
  },
  {
   "cell_type": "markdown",
   "metadata": {},
   "source": [
    "# Visualize the distributions again"
   ]
  },
  {
   "cell_type": "code",
   "execution_count": 76,
   "metadata": {},
   "outputs": [
    {
     "data": {
      "image/png": "[encoded data removed]",
      "text/plain": [
       "<Figure size 432x288 with 1 Axes>"
      ]
     },
     "metadata": {},
     "output_type": "display_data"
    }
   ],
   "source": [
    "# Visualize the distributions again\n",
    "\n",
    "sns.boxplot(y = 'money_per_month', x = 'CountryLive',\n",
    "            data = only_4)\n",
    "plt.title('Money Spent Per Month Per Country\\n(Distributions)',\n",
    "          fontsize = 16,color='blue')\n",
    "plt.ylabel('Money per month (US dollars)')\n",
    "plt.xlabel('Country',color='green')\n",
    "plt.xticks(range(4), ['US', 'UK', 'India', 'Canada']) # avoids tick labels overlap\n",
    "plt.show()"
   ]
  },
  {
   "cell_type": "markdown",
   "metadata": {},
   "source": [
    "# We decide to sell our courses  at a price of 60 per month"
   ]
  },
  {
   "cell_type": "code",
   "execution_count": 77,
   "metadata": {},
   "outputs": [
    {
     "data": {
      "text/plain": [
       "CountryLive\n",
       "Canada                       93.065400\n",
       "India                        65.758763\n",
       "United Kingdom               45.534443\n",
       "United States of America    142.654608\n",
       "Name: money_per_month, dtype: float64"
      ]
     },
     "execution_count": 77,
     "metadata": {},
     "output_type": "execute_result"
    }
   ],
   "source": [
    "# Recompute mean sum of money spent by students each month\n",
    "\n",
    "only_4.groupby('CountryLive').mean()['money_per_month']"
   ]
  },
  {
   "cell_type": "markdown",
   "metadata": {},
   "source": [
    "## US , Canada , India' students are able to spend this amount\n",
    "## But UK ' students are not spend this amount"
   ]
  },
  {
   "cell_type": "markdown",
   "metadata": {},
   "source": [
    " # US is our First choice but let’s take a second look at India before deciding to choose Canada as our second best choice:"
   ]
  },
  {
   "cell_type": "code",
   "execution_count": 78,
   "metadata": {},
   "outputs": [
    {
     "data": {
      "text/plain": [
       "United States of America    74.967908\n",
       "India                       11.732991\n",
       "United Kingdom               7.163030\n",
       "Canada                       6.136072\n",
       "Name: CountryLive, dtype: float64"
      ]
     },
     "execution_count": 78,
     "metadata": {},
     "output_type": "execute_result"
    }
   ],
   "source": [
    "# Frequency table for the 'CountryLive' column, check potential customers\n",
    "\n",
    "only_4['CountryLive'].value_counts(normalize = True) * 100"
   ]
  },
  {
   "cell_type": "markdown",
   "metadata": {},
   "source": [
    "## We have almost twice as more potential customers in India than we have in Canada:\n",
    "\n",
    "\n",
    "\n"
   ]
  },
  {
   "cell_type": "markdown",
   "metadata": {},
   "source": [
    "# So we decide to split our courses n these 3 country according to pecentage wise\n",
    "# like US =50 , Canada =30 , India =20\n",
    "# 0r US =40 , Canada = 35 , India = 25"
   ]
  },
  {
   "cell_type": "markdown",
   "metadata": {},
   "source": [
    "# Conclusion\n",
    "\n",
    "## In this project, we analyzed survey data from new coders to find the best two markets to advertise in.\n",
    "## The only solid conclusion we reached is that the US would be a good market to advertise in."
   ]
  },
  {
   "cell_type": "code",
   "execution_count": null,
   "metadata": {},
   "outputs": [],
   "source": []
  }
 ],
 "metadata": {
  "kernelspec": {
   "display_name": "Python 3",
   "language": "python",
   "name": "python3"
  },
  "language_info": {
   "codemirror_mode": {
    "name": "ipython",
    "version": 3
   },
   "file_extension": ".py",
   "mimetype": "text/x-python",
   "name": "python",
   "nbconvert_exporter": "python",
   "pygments_lexer": "ipython3",
   "version": "3.7.3"
  }
 },
 "nbformat": 4,
 "nbformat_minor": 2
}
